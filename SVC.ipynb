{
 "cells": [
  {
   "cell_type": "markdown",
   "id": "c06ed9e1",
   "metadata": {
    "id": "c06ed9e1"
   },
   "source": [
    "# Comparative Analysis of SVM Performance on Colored vs. Grayscale CIFAR-10 Datasets\n",
    "<div style=\"text-align: right\">Uday Kiran Dasari <br> </div>"
   ]
  },
  {
   "cell_type": "markdown",
   "id": "d464bcd0-38d8-4e6c-8480-a31cf9f6f0e1",
   "metadata": {},
   "source": [
    "## Objective\n",
    "\n",
    "The primary objective of this project is to evaluate the performance of Support Vector Machine (SVM) classifiers on the CIFAR-10 dataset by comparing the effectiveness of models trained on colored images versus those trained on grayscale images. The goal is to determine which version of the dataset yields better classification results and to analyze the underlying reasons for any observed differences in performance."
   ]
  },
  {
   "cell_type": "markdown",
   "id": "89e287c7-a2f9-4463-a372-b295093812c3",
   "metadata": {},
   "source": [
    "**Steps Involved:**\n",
    "\n",
    "**1. Data Preparation:**\n",
    "- Load the CIFAR-10 dataset, which consists of 60,000 32x32 color images in 10 classes.\n",
    "- Split the dataset into training and testing sets for both colored and grayscale images.\n",
    "\n",
    "\n",
    "**2.Model Training and Hyperparameter Tuning:**\n",
    "- Use GridSearchCV to find the optimal hyperparameters for the SVM model. The parameters grid includes values for C and gamma.\n",
    "- Train the SVM model on the colored CIFAR-10 dataset using the best parameters identified.\n",
    "- Repeat the training process for the grayscale version of the CIFAR-10 dataset.\n",
    "\n",
    "\n",
    "**3.Evaluation and Comparison:**\n",
    "- Evaluate the trained SVM models on the respective test sets.\n",
    "- Generate classification reports to assess the precision, recall, F1-score, and overall accuracy for both colored and grayscale datasets.\n",
    "- Compare the performance metrics between the two versions of the dataset.\n",
    "\n",
    "\n",
    "**4.Theoretical Considerations:**\n",
    "- Discuss the potential impact of converting colored images to grayscale on the model's ability to differentiate between classes.\n",
    "- Analyze the importance of color information in object recognition tasks."
   ]
  },
  {
   "cell_type": "markdown",
   "id": "e584514d",
   "metadata": {
    "id": "e584514d"
   },
   "source": [
    "## Dataset Preparation\n",
    "### Function to read the CIFAR batches"
   ]
  },
  {
   "cell_type": "code",
   "execution_count": 1,
   "id": "f58bf866",
   "metadata": {
    "id": "f58bf866"
   },
   "outputs": [],
   "source": [
    "def unpickle(file):\n",
    "    import pickle\n",
    "    with open(file, 'rb') as fo:\n",
    "        dict = pickle.load(fo, encoding='latin1')\n",
    "    return dict"
   ]
  },
  {
   "cell_type": "code",
   "execution_count": 2,
   "id": "2NUCy4MVWIXx",
   "metadata": {
    "id": "2NUCy4MVWIXx"
   },
   "outputs": [],
   "source": [
    "import pickle\n",
    "import numpy as np\n",
    "import os\n",
    "#from scipy.misc import imread\n",
    "from matplotlib.pyplot import imread\n",
    "\n",
    "def load_CIFAR_batch(filename):\n",
    "    \"\"\" load single batch of cifar \"\"\"\n",
    "    datadict = unpickle(filename)\n",
    "    X = datadict['data']\n",
    "    Y = datadict['labels']\n",
    "    X = X.reshape(10000, 3, 32, 32).transpose(0,2,3,1).astype(\"float\")\n",
    "    Y = np.array(Y)\n",
    "    return X, Y\n",
    "\n",
    "def load_CIFAR10(ROOT):\n",
    "    \"\"\" load all of cifar \"\"\"\n",
    "    xs = []\n",
    "    ys = []\n",
    "    for b in range(1,6):\n",
    "        f = os.path.join(ROOT, 'data_batch_%d' % (b, ))\n",
    "        X, Y = load_CIFAR_batch(f)\n",
    "        xs.append(X)\n",
    "        ys.append(Y)\n",
    "    Xtr = np.concatenate(xs)\n",
    "    Ytr = np.concatenate(ys)\n",
    "    del X, Y\n",
    "    Xte, Yte = load_CIFAR_batch(os.path.join(ROOT, 'test_batch'))\n",
    "    return Xtr, Ytr, Xte, Yte"
   ]
  },
  {
   "cell_type": "markdown",
   "id": "1cec61cf",
   "metadata": {
    "id": "1cec61cf"
   },
   "source": [
    "#### Read all the individual batches as datasets"
   ]
  },
  {
   "cell_type": "code",
   "execution_count": 4,
   "id": "8ad113eb",
   "metadata": {
    "colab": {
     "base_uri": "https://localhost:8080/"
    },
    "id": "8ad113eb",
    "outputId": "955e4240-4bac-4f85-bb24-964f6380bd35"
   },
   "outputs": [
    {
     "name": "stdout",
     "output_type": "stream",
     "text": [
      "dict_keys(['batch_label', 'labels', 'data', 'filenames'])\n"
     ]
    }
   ],
   "source": [
    "cifar10_dir = 'cifar-10-batches-py'  # Assuming the dataset is in this directory\n",
    "\n",
    "for batch_num in range(1, 6):  # Iterate through batches 1 to 10\n",
    "    batch_file = f\"{cifar10_dir}/data_batch_{batch_num}\"  # Construct the batch file path\n",
    "    batch_data = unpickle(batch_file)  # Use your unpickle function\n",
    "    batch_name = f\"db{batch_num}\"  # Create a variable name for the batch\n",
    "    globals()[batch_name] = batch_data  # Assign the unpickled data to a global variable\n",
    "\n",
    "# Print the keys of the unpickled batch data (example for batch 1):\n",
    "print(db1.keys())"
   ]
  },
  {
   "cell_type": "code",
   "execution_count": 5,
   "id": "bab6316f",
   "metadata": {
    "colab": {
     "base_uri": "https://localhost:8080/"
    },
    "id": "bab6316f",
    "outputId": "23cb0206-7291-47e4-962f-b822d155f712"
   },
   "outputs": [
    {
     "name": "stdout",
     "output_type": "stream",
     "text": [
      "{0, 1, 2, 3, 4, 5, 6, 7, 8, 9}\n",
      "Counter({2: 1032, 6: 1030, 8: 1025, 3: 1016, 0: 1005, 7: 1001, 4: 999, 9: 981, 1: 974, 5: 937})\n",
      "{0, 1, 2, 3, 4, 5, 6, 7, 8, 9}\n",
      "Counter({7: 1026, 4: 1010, 2: 1010, 6: 1008, 1: 1007, 3: 995, 5: 988, 8: 987, 9: 985, 0: 984})\n",
      "{0, 1, 2, 3, 4, 5, 6, 7, 8, 9}\n",
      "Counter({1: 1042, 5: 1029, 9: 1029, 7: 1015, 3: 997, 0: 994, 4: 990, 6: 978, 2: 965, 8: 961})\n",
      "{0, 1, 2, 3, 4, 5, 6, 7, 8, 9}\n",
      "Counter({2: 1041, 8: 1024, 5: 1021, 6: 1004, 4: 1004, 0: 1003, 9: 983, 7: 981, 3: 976, 1: 963})\n",
      "{0, 1, 2, 3, 4, 5, 6, 7, 8, 9}\n",
      "Counter({5: 1025, 9: 1022, 3: 1016, 1: 1014, 0: 1014, 8: 1003, 4: 997, 6: 980, 7: 977, 2: 952})\n"
     ]
    }
   ],
   "source": [
    "dba = [db1,db2,db3,db4,db5]\n",
    "from collections import Counter\n",
    "for db in dba:\n",
    "    print(set(db['labels']))\n",
    "    print(Counter(db['labels']))"
   ]
  },
  {
   "cell_type": "markdown",
   "id": "0338157b",
   "metadata": {
    "id": "0338157b"
   },
   "source": [
    "#### Necessary imports for modelling"
   ]
  },
  {
   "cell_type": "code",
   "execution_count": 6,
   "id": "56582c8b",
   "metadata": {
    "id": "56582c8b"
   },
   "outputs": [],
   "source": [
    "import numpy as np\n",
    "import os\n",
    "from sklearn.model_selection import train_test_split\n",
    "from sklearn.svm import SVC\n",
    "from sklearn.decomposition import PCA as RandomizedPCA\n",
    "from sklearn.pipeline import make_pipeline\n",
    "import time\n",
    "from sklearn.model_selection import GridSearchCV\n",
    "from sklearn.metrics import classification_report"
   ]
  },
  {
   "cell_type": "markdown",
   "id": "9f15cfc5-571b-40b2-bbcc-3346163f02c1",
   "metadata": {},
   "source": [
    "## Model Training and Hyperparameter Tuning\n",
    "- Use GridSearchCV to find the optimal hyperparameters for the SVM model. The parameters grid includes values for C and gamma.\n",
    "- Train the SVM model on the colored CIFAR-10 dataset using the best parameters identified.\n",
    "- Repeat the training process for the grayscale version of the CIFAR-10 dataset."
   ]
  },
  {
   "cell_type": "markdown",
   "id": "b316969d",
   "metadata": {
    "id": "b316969d"
   },
   "source": [
    "#### Defining the SVM Model"
   ]
  },
  {
   "cell_type": "code",
   "execution_count": 7,
   "id": "6b2b9cff",
   "metadata": {
    "id": "6b2b9cff"
   },
   "outputs": [],
   "source": [
    "#Defining the model\n",
    "pca = RandomizedPCA(n_components=150, whiten=True, random_state=42)\n",
    "svc = SVC(kernel='rbf', class_weight='balanced')\n",
    "model = make_pipeline(pca, svc)"
   ]
  },
  {
   "cell_type": "code",
   "execution_count": 8,
   "id": "63b6a653",
   "metadata": {
    "colab": {
     "base_uri": "https://localhost:8080/"
    },
    "id": "63b6a653",
    "outputId": "00caeffd-be65-48ff-e04d-92bbdeb0ba08"
   },
   "outputs": [
    {
     "data": {
      "text/plain": [
       "(10000, 3072)"
      ]
     },
     "execution_count": 8,
     "metadata": {},
     "output_type": "execute_result"
    }
   ],
   "source": [
    "db2['data'].shape"
   ]
  },
  {
   "cell_type": "markdown",
   "id": "37014fb4",
   "metadata": {
    "id": "37014fb4"
   },
   "source": [
    "### Individual CIFAR Color batches"
   ]
  },
  {
   "cell_type": "markdown",
   "id": "vRvwJxOal1fg",
   "metadata": {
    "id": "vRvwJxOal1fg"
   },
   "source": [
    "Display the Coloured Image"
   ]
  },
  {
   "cell_type": "code",
   "execution_count": 9,
   "id": "A0LeYalqlDEP",
   "metadata": {
    "colab": {
     "base_uri": "https://localhost:8080/",
     "height": 447
    },
    "id": "A0LeYalqlDEP",
    "outputId": "b2e57707-8d2e-4511-bc03-512e04d39950"
   },
   "outputs": [
    {
     "data": {
      "text/plain": [
       "<matplotlib.image.AxesImage at 0x22ea5744b90>"
      ]
     },
     "execution_count": 9,
     "metadata": {},
     "output_type": "execute_result"
    },
    {
     "data": {
      "image/png": "[encoded data removed]",
      "text/plain": [
       "<Figure size 640x480 with 1 Axes>"
      ]
     },
     "metadata": {},
     "output_type": "display_data"
    }
   ],
   "source": [
    "IMG1 = db1['data'][123].reshape(3, 32, 32).transpose(1,2,0).astype(\"float\")\n",
    "IMG1b = np.flip(IMG1, (0,1))\n",
    "\n",
    "%matplotlib inline\n",
    "import numpy as np\n",
    "import matplotlib.pyplot as plt\n",
    "\n",
    "plt.imshow(IMG1b.astype('uint8'), origin='lower')"
   ]
  },
  {
   "cell_type": "markdown",
   "id": "I8liD6foTV2t",
   "metadata": {
    "id": "I8liD6foTV2t"
   },
   "source": [
    "#### Flattening and Splitting of Datasets and GridSearch CV"
   ]
  },
  {
   "cell_type": "code",
   "execution_count": 10,
   "id": "0dd97351",
   "metadata": {
    "colab": {
     "base_uri": "https://localhost:8080/"
    },
    "id": "0dd97351",
    "outputId": "f6e8799c-63fd-49cb-f272-1c9fe47e2154"
   },
   "outputs": [
    {
     "name": "stdout",
     "output_type": "stream",
     "text": [
      "Starting grid search on db1...\n",
      "Classification report for db1 on the test set:\n",
      "              precision    recall  f1-score   support\n",
      "\n",
      "           0       0.50      0.50      0.50       207\n",
      "           1       0.55      0.63      0.59       213\n",
      "           2       0.38      0.38      0.38       197\n",
      "           3       0.40      0.37      0.38       199\n",
      "           4       0.42      0.41      0.41       205\n",
      "           5       0.38      0.36      0.37       177\n",
      "           6       0.51      0.47      0.49       187\n",
      "           7       0.53      0.52      0.52       200\n",
      "           8       0.63      0.61      0.62       224\n",
      "           9       0.48      0.54      0.51       191\n",
      "\n",
      "    accuracy                           0.48      2000\n",
      "   macro avg       0.48      0.48      0.48      2000\n",
      "weighted avg       0.48      0.48      0.48      2000\n",
      "\n",
      "Best parameters for db1: {'svc__C': 5, 'svc__gamma': 0.005}\n",
      "Time taken for db1: 170.84272074699402 seconds\n",
      "\n",
      "Starting grid search on db2...\n",
      "Classification report for db2 on the test set:\n",
      "              precision    recall  f1-score   support\n",
      "\n",
      "           0       0.45      0.45      0.45       210\n",
      "           1       0.51      0.59      0.55       218\n",
      "           2       0.35      0.34      0.35       192\n",
      "           3       0.38      0.36      0.37       211\n",
      "           4       0.37      0.38      0.38       199\n",
      "           5       0.39      0.32      0.35       205\n",
      "           6       0.54      0.51      0.53       203\n",
      "           7       0.46      0.42      0.44       170\n",
      "           8       0.62      0.57      0.60       210\n",
      "           9       0.41      0.53      0.46       182\n",
      "\n",
      "    accuracy                           0.45      2000\n",
      "   macro avg       0.45      0.45      0.45      2000\n",
      "weighted avg       0.45      0.45      0.45      2000\n",
      "\n",
      "Best parameters for db2: {'svc__C': 5, 'svc__gamma': 0.005}\n",
      "Time taken for db2: 171.74931621551514 seconds\n",
      "\n",
      "Starting grid search on db3...\n",
      "Classification report for db3 on the test set:\n",
      "              precision    recall  f1-score   support\n",
      "\n",
      "           0       0.57      0.50      0.53       214\n",
      "           1       0.55      0.55      0.55       245\n",
      "           2       0.32      0.34      0.33       181\n",
      "           3       0.31      0.30      0.30       211\n",
      "           4       0.42      0.44      0.43       199\n",
      "           5       0.37      0.34      0.36       212\n",
      "           6       0.43      0.39      0.41       186\n",
      "           7       0.46      0.47      0.47       163\n",
      "           8       0.65      0.62      0.64       204\n",
      "           9       0.43      0.56      0.49       185\n",
      "\n",
      "    accuracy                           0.45      2000\n",
      "   macro avg       0.45      0.45      0.45      2000\n",
      "weighted avg       0.46      0.45      0.45      2000\n",
      "\n",
      "Best parameters for db3: {'svc__C': 5, 'svc__gamma': 0.005}\n",
      "Time taken for db3: 169.60716915130615 seconds\n",
      "\n",
      "Starting grid search on db4...\n",
      "Classification report for db4 on the test set:\n",
      "              precision    recall  f1-score   support\n",
      "\n",
      "           0       0.47      0.52      0.49       183\n",
      "           1       0.50      0.60      0.54       188\n",
      "           2       0.35      0.34      0.35       210\n",
      "           3       0.29      0.29      0.29       202\n",
      "           4       0.39      0.38      0.39       215\n",
      "           5       0.41      0.40      0.41       222\n",
      "           6       0.54      0.47      0.51       198\n",
      "           7       0.51      0.47      0.49       193\n",
      "           8       0.59      0.54      0.56       198\n",
      "           9       0.51      0.57      0.54       191\n",
      "\n",
      "    accuracy                           0.45      2000\n",
      "   macro avg       0.46      0.46      0.46      2000\n",
      "weighted avg       0.45      0.45      0.45      2000\n",
      "\n",
      "Best parameters for db4: {'svc__C': 5, 'svc__gamma': 0.005}\n",
      "Time taken for db4: 170.40319418907166 seconds\n",
      "\n",
      "Starting grid search on db5...\n",
      "Classification report for db5 on the test set:\n",
      "              precision    recall  f1-score   support\n",
      "\n",
      "           0       0.46      0.53      0.49       176\n",
      "           1       0.53      0.55      0.54       232\n",
      "           2       0.36      0.32      0.34       198\n",
      "           3       0.32      0.27      0.29       205\n",
      "           4       0.41      0.42      0.41       201\n",
      "           5       0.42      0.42      0.42       188\n",
      "           6       0.52      0.51      0.52       206\n",
      "           7       0.56      0.42      0.48       199\n",
      "           8       0.64      0.58      0.61       207\n",
      "           9       0.41      0.58      0.48       188\n",
      "\n",
      "    accuracy                           0.46      2000\n",
      "   macro avg       0.46      0.46      0.46      2000\n",
      "weighted avg       0.46      0.46      0.46      2000\n",
      "\n",
      "Best parameters for db5: {'svc__C': 5, 'svc__gamma': 0.005}\n",
      "Time taken for db5: 170.50372862815857 seconds\n",
      "\n"
     ]
    }
   ],
   "source": [
    "# Parameters for grid search\n",
    "param_grid = {'svc__C': [1, 5], 'svc__gamma': [0.001, 0.005]}\n",
    "\n",
    "# List of datasets\n",
    "dbs = [db1, db2, db3, db4, db5]\n",
    "\n",
    "# Iterate over each dataset\n",
    "for i, db in enumerate(dbs, start=1):\n",
    "    # Flatten the image data\n",
    "    X_flattened = np.array([img.flatten() for img in db['data']])\n",
    "\n",
    "    # Split into training and testing sets\n",
    "    X_train, X_test, y_train, y_test = train_test_split(X_flattened, db['labels'], test_size=0.2, random_state=42)\n",
    "\n",
    "    print(f\"Starting grid search on db{i}...\")\n",
    "    start_time = time.time()\n",
    "    grid = GridSearchCV(model, param_grid)\n",
    "    grid.fit(X_train, y_train)\n",
    "    end_time = time.time()\n",
    "\n",
    "    # Get the best estimator\n",
    "    best_model = grid.best_estimator_\n",
    "\n",
    "    # Make predictions on the test set\n",
    "    y_pred = best_model.predict(X_test)\n",
    "\n",
    "    # Classification report\n",
    "    print(f\"Classification report for db{i} on the test set:\")\n",
    "    print(classification_report(y_test, y_pred))\n",
    "\n",
    "    print(f\"Best parameters for db{i}: {grid.best_params_}\")\n",
    "    print(f\"Time taken for db{i}: {end_time - start_time} seconds\\n\")"
   ]
  },
  {
   "cell_type": "markdown",
   "id": "oTV9tPxtg-hq",
   "metadata": {
    "id": "oTV9tPxtg-hq"
   },
   "source": [
    "#### Observations\n",
    "**Best SVC Parameters for all the 5 CIFAR Colour batches are as follows:**\n",
    "\n",
    "- 'svc__C': 5\n",
    "\n",
    "- 'svc__gamma': 0.005\n",
    "\n",
    "**F1 score Accuracy for each batch:**\n",
    "\n",
    "- Batch1: 0.48\n",
    "\n",
    "- Batch2: 0.45\n",
    "\n",
    "- Batch3: 0.45\n",
    "\n",
    "- Batch4: 0.45\n",
    "\n",
    "- Batch5: 0.46\n",
    "\n",
    "**Out of five batches, Batch 1 has the best f1 score accuracy.**"
   ]
  },
  {
   "cell_type": "markdown",
   "id": "9efbbdcc",
   "metadata": {},
   "source": [
    "### Whole CIFAR Color batch"
   ]
  },
  {
   "cell_type": "markdown",
   "id": "pxSRb2H0fgED",
   "metadata": {
    "id": "pxSRb2H0fgED"
   },
   "source": [
    "#### Loading the whole CIFAR Colour dataset"
   ]
  },
  {
   "cell_type": "code",
   "execution_count": 12,
   "id": "i4TXqFInSJOQ",
   "metadata": {
    "id": "i4TXqFInSJOQ"
   },
   "outputs": [],
   "source": [
    "# Load the raw CIFAR-10 data.\n",
    "cifar10_dir = 'cifar-10-batches-py'\n",
    "AX_train,ay_train,AX_test,ay_test = load_CIFAR10(cifar10_dir)"
   ]
  },
  {
   "cell_type": "code",
   "execution_count": 13,
   "id": "WiAW3LpDVYhS",
   "metadata": {
    "id": "WiAW3LpDVYhS"
   },
   "outputs": [
    {
     "name": "stdout",
     "output_type": "stream",
     "text": [
      "Training data shape:  (50000, 32, 32, 3)\n",
      "Training labels shape:  (50000,)\n",
      "Test data shape:  (10000, 32, 32, 3)\n",
      "Test labels shape:  (10000,)\n"
     ]
    }
   ],
   "source": [
    "print ('Training data shape: ', AX_train.shape)\n",
    "print ('Training labels shape: ', ay_train.shape)\n",
    "print ('Test data shape: ', AX_test.shape)\n",
    "print ('Test labels shape: ', ay_test.shape)"
   ]
  },
  {
   "cell_type": "markdown",
   "id": "mxDqRSIzfoGX",
   "metadata": {
    "id": "mxDqRSIzfoGX"
   },
   "source": [
    "#### Flattening the Training and Testing Dataset"
   ]
  },
  {
   "cell_type": "code",
   "execution_count": 14,
   "id": "lK4b4JJRSkLa",
   "metadata": {
    "id": "lK4b4JJRSkLa"
   },
   "outputs": [
    {
     "data": {
      "text/plain": [
       "(50000, 3072)"
      ]
     },
     "execution_count": 14,
     "metadata": {},
     "output_type": "execute_result"
    }
   ],
   "source": [
    "#Flattening the Training set\n",
    "AX_train_flattened = np.zeros((50000, 3072))\n",
    "for i in range(50000):\n",
    "    AX_train_flattened[i] = AX_train[i].flatten()\n",
    "\n",
    "AX_train_flattened.shape"
   ]
  },
  {
   "cell_type": "code",
   "execution_count": 15,
   "id": "DcSLGfgOSonW",
   "metadata": {
    "id": "DcSLGfgOSonW"
   },
   "outputs": [
    {
     "data": {
      "text/plain": [
       "(10000, 3072)"
      ]
     },
     "execution_count": 15,
     "metadata": {},
     "output_type": "execute_result"
    }
   ],
   "source": [
    "#Flattening the Testing set\n",
    "AX_test_flattened = np.zeros((10000, 3072))\n",
    "for i in range(10000):\n",
    "    AX_test_flattened[i] = AX_test[i].flatten()\n",
    "\n",
    "AX_test_flattened.shape"
   ]
  },
  {
   "cell_type": "markdown",
   "id": "b1zHi6JFfzMF",
   "metadata": {
    "id": "b1zHi6JFfzMF"
   },
   "source": [
    "#### GridsearchCV for the whole CIFAR Colour Dataset"
   ]
  },
  {
   "cell_type": "code",
   "execution_count": 16,
   "id": "iskbXq9gWtB3",
   "metadata": {
    "id": "iskbXq9gWtB3"
   },
   "outputs": [
    {
     "name": "stdout",
     "output_type": "stream",
     "text": [
      "Starting grid search on db...\n",
      "Classification report for db9999 on the test set:\n",
      "              precision    recall  f1-score   support\n",
      "\n",
      "           0       0.58      0.58      0.58      1000\n",
      "           1       0.56      0.64      0.60      1000\n",
      "           2       0.38      0.39      0.39      1000\n",
      "           3       0.36      0.35      0.36      1000\n",
      "           4       0.44      0.46      0.45      1000\n",
      "           5       0.43      0.38      0.41      1000\n",
      "           6       0.57      0.57      0.57      1000\n",
      "           7       0.60      0.53      0.56      1000\n",
      "           8       0.64      0.63      0.63      1000\n",
      "           9       0.51      0.54      0.53      1000\n",
      "\n",
      "    accuracy                           0.51     10000\n",
      "   macro avg       0.51      0.51      0.51     10000\n",
      "weighted avg       0.51      0.51      0.51     10000\n",
      "\n",
      "Best parameters for db9999: {'svc__C': 5, 'svc__gamma': 0.005}\n",
      "Time taken for db9999: 597.4102010726929 seconds\n",
      "\n"
     ]
    }
   ],
   "source": [
    "# Parameters for grid search\n",
    "param_grid = {'svc__C': [1, 5], 'svc__gamma': [0.001, 0.005]}\n",
    "\n",
    "print(f\"Starting grid search on db...\")\n",
    "start_time = time.time()\n",
    "grid = GridSearchCV(model, param_grid)\n",
    "grid.fit(AX_train_flattened[:15000], ay_train[:15000])\n",
    "end_time = time.time()\n",
    "\n",
    "# Get the best estimator\n",
    "best_model = grid.best_estimator_\n",
    "\n",
    "# Make predictions on the test set\n",
    "ay_pred = best_model.predict(AX_test_flattened)\n",
    "\n",
    "# Classification report\n",
    "print(f\"Classification report for db{i} on the test set:\")\n",
    "print(classification_report(ay_test, ay_pred))\n",
    "\n",
    "print(f\"Best parameters for db{i}: {grid.best_params_}\")\n",
    "print(f\"Time taken for db{i}: {end_time - start_time} seconds\\n\")"
   ]
  },
  {
   "cell_type": "markdown",
   "id": "a7ba036b",
   "metadata": {},
   "source": [
    "#### Observations\n",
    "**Best SVC Parameters are as follows:**\n",
    "\n",
    "- **'svc__C': 5**\n",
    "\n",
    "- **'svc__gamma': 0.005**\n",
    "\n",
    "**F1 score Accuracy: 51%**"
   ]
  },
  {
   "cell_type": "markdown",
   "id": "14702fa2",
   "metadata": {
    "id": "14702fa2"
   },
   "source": [
    "### Individual B&W CIFAR batches"
   ]
  },
  {
   "cell_type": "markdown",
   "id": "f6b0b008",
   "metadata": {
    "id": "f6b0b008"
   },
   "source": [
    "#### Helper functions\n",
    "1. To load the batch files\n",
    "2. To convert colored images to grayscale\n",
    "3. Process the grayscale images and flatten the shape"
   ]
  },
  {
   "cell_type": "code",
   "execution_count": 17,
   "id": "jnLyxnA02UWa",
   "metadata": {
    "id": "jnLyxnA02UWa"
   },
   "outputs": [],
   "source": [
    "def load_CIFAR_batch(filename):\n",
    "    \"\"\" load single batch of cifar \"\"\"\n",
    "    datadict = unpickle(filename)\n",
    "    X = datadict['data']\n",
    "    Y = datadict['labels']\n",
    "    X = X.reshape(10000, 3, 32, 32).transpose(0,2,3,1).astype(\"float\")\n",
    "    Y = np.array(Y)\n",
    "    return X, Y\n",
    "\n",
    "def rgb2gray(rgb):\n",
    "    r, g, b = rgb[0], rgb[1], rgb[2]\n",
    "    gray = 0.2989 * r + 0.5870 * g + 0.1140 * b\n",
    "    return gray\n",
    "\n",
    "def process_batch(filename):\n",
    "    # Load the batch\n",
    "    GX, GY = load_CIFAR_batch(filename)\n",
    "\n",
    "    # Convert to grayscale\n",
    "    GX_gray = GX.copy()\n",
    "    for i in range(GX_gray.shape[0]):\n",
    "        for j in range(GX_gray.shape[1]):\n",
    "            for k in range(GX_gray.shape[2]):\n",
    "                rgb = GX_gray[i, j, k]\n",
    "                gray = rgb2gray(rgb)\n",
    "                GX_gray[i, j, k] = gray\n",
    "\n",
    "    # Flatten the grayscale images\n",
    "    GX_gray_flattened = np.zeros((GX_gray.shape[0], 3072))\n",
    "    for i in range(GX_gray.shape[0]):\n",
    "        GX_gray_flattened[i] = GX_gray[i].flatten()\n",
    "\n",
    "    return GX_gray_flattened, GY"
   ]
  },
  {
   "cell_type": "markdown",
   "id": "IbfLS1NNgCWD",
   "metadata": {
    "id": "IbfLS1NNgCWD"
   },
   "source": [
    "#### GridSearchCV for 5 B&W Batches"
   ]
  },
  {
   "cell_type": "code",
   "execution_count": 19,
   "id": "GUmFnVMO7BXJ",
   "metadata": {
    "id": "GUmFnVMO7BXJ"
   },
   "outputs": [
    {
     "name": "stdout",
     "output_type": "stream",
     "text": [
      "Starting grid search on batch 1...\n",
      "Classification report for batch 1 on the test set:\n",
      "              precision    recall  f1-score   support\n",
      "\n",
      "           0       0.43      0.36      0.39       207\n",
      "           1       0.45      0.51      0.47       213\n",
      "           2       0.27      0.29      0.28       197\n",
      "           3       0.32      0.25      0.28       199\n",
      "           4       0.30      0.37      0.33       205\n",
      "           5       0.34      0.30      0.32       177\n",
      "           6       0.36      0.39      0.37       187\n",
      "           7       0.45      0.38      0.41       200\n",
      "           8       0.53      0.50      0.52       224\n",
      "           9       0.43      0.51      0.46       191\n",
      "\n",
      "    accuracy                           0.39      2000\n",
      "   macro avg       0.39      0.38      0.38      2000\n",
      "weighted avg       0.39      0.39      0.39      2000\n",
      "\n",
      "Best parameters for db1: {'svc__C': 5, 'svc__gamma': 0.005}\n",
      "Time taken for db1: 187.02176904678345 seconds\n",
      "\n",
      "Starting grid search on batch 2...\n",
      "Classification report for batch 2 on the test set:\n",
      "              precision    recall  f1-score   support\n",
      "\n",
      "           0       0.39      0.33      0.36       210\n",
      "           1       0.40      0.48      0.43       218\n",
      "           2       0.28      0.29      0.29       192\n",
      "           3       0.27      0.18      0.22       211\n",
      "           4       0.29      0.40      0.34       199\n",
      "           5       0.38      0.31      0.34       205\n",
      "           6       0.39      0.33      0.35       203\n",
      "           7       0.40      0.41      0.41       170\n",
      "           8       0.48      0.48      0.48       210\n",
      "           9       0.37      0.47      0.42       182\n",
      "\n",
      "    accuracy                           0.37      2000\n",
      "   macro avg       0.37      0.37      0.36      2000\n",
      "weighted avg       0.37      0.37      0.36      2000\n",
      "\n",
      "Best parameters for db2: {'svc__C': 5, 'svc__gamma': 0.005}\n",
      "Time taken for db2: 183.16945934295654 seconds\n",
      "\n",
      "Starting grid search on batch 3...\n",
      "Classification report for batch 3 on the test set:\n",
      "              precision    recall  f1-score   support\n",
      "\n",
      "           0       0.43      0.37      0.40       214\n",
      "           1       0.51      0.54      0.53       245\n",
      "           2       0.28      0.29      0.29       181\n",
      "           3       0.25      0.19      0.21       211\n",
      "           4       0.32      0.37      0.34       199\n",
      "           5       0.34      0.30      0.32       212\n",
      "           6       0.27      0.25      0.26       186\n",
      "           7       0.39      0.39      0.39       163\n",
      "           8       0.52      0.50      0.51       204\n",
      "           9       0.40      0.55      0.46       185\n",
      "\n",
      "    accuracy                           0.38      2000\n",
      "   macro avg       0.37      0.38      0.37      2000\n",
      "weighted avg       0.37      0.38      0.37      2000\n",
      "\n",
      "Best parameters for db3: {'svc__C': 5, 'svc__gamma': 0.005}\n",
      "Time taken for db3: 183.27503538131714 seconds\n",
      "\n",
      "Starting grid search on batch 4...\n",
      "Classification report for batch 4 on the test set:\n",
      "              precision    recall  f1-score   support\n",
      "\n",
      "           0       0.42      0.37      0.39       183\n",
      "           1       0.38      0.51      0.43       188\n",
      "           2       0.29      0.33      0.31       210\n",
      "           3       0.26      0.24      0.25       202\n",
      "           4       0.29      0.30      0.29       215\n",
      "           5       0.37      0.33      0.35       222\n",
      "           6       0.39      0.33      0.36       198\n",
      "           7       0.44      0.41      0.42       193\n",
      "           8       0.48      0.43      0.45       198\n",
      "           9       0.42      0.47      0.44       191\n",
      "\n",
      "    accuracy                           0.37      2000\n",
      "   macro avg       0.37      0.37      0.37      2000\n",
      "weighted avg       0.37      0.37      0.37      2000\n",
      "\n",
      "Best parameters for db4: {'svc__C': 5, 'svc__gamma': 0.005}\n",
      "Time taken for db4: 186.664133310318 seconds\n",
      "\n",
      "Starting grid search on batch 5...\n",
      "Classification report for batch 5 on the test set:\n",
      "              precision    recall  f1-score   support\n",
      "\n",
      "           0       0.37      0.36      0.37       176\n",
      "           1       0.43      0.46      0.44       232\n",
      "           2       0.26      0.27      0.27       198\n",
      "           3       0.26      0.20      0.23       205\n",
      "           4       0.29      0.31      0.30       201\n",
      "           5       0.32      0.35      0.33       188\n",
      "           6       0.38      0.33      0.35       206\n",
      "           7       0.46      0.37      0.41       199\n",
      "           8       0.52      0.49      0.50       207\n",
      "           9       0.35      0.49      0.41       188\n",
      "\n",
      "    accuracy                           0.36      2000\n",
      "   macro avg       0.36      0.36      0.36      2000\n",
      "weighted avg       0.37      0.36      0.36      2000\n",
      "\n",
      "Best parameters for db5: {'svc__C': 5, 'svc__gamma': 0.005}\n",
      "Time taken for db5: 190.9511103630066 seconds\n",
      "\n"
     ]
    }
   ],
   "source": [
    "# Parameters for grid search\n",
    "param_grid = {'svc__C': [1, 5], 'svc__gamma': [0.001, 0.005]}\n",
    "\n",
    "\n",
    "# Iterate over each of the 5 batches\n",
    "for i in range(1, 6):\n",
    "    filename = f\"cifar-10-batches-py/data_batch_{i}\"\n",
    "    GX_gray_flattened, gy = process_batch(filename)\n",
    "    # Split into training and testing sets\n",
    "    GX_train, GX_test, gy_train, gy_test = train_test_split(GX_gray_flattened, gy, test_size=0.2, random_state=42)\n",
    "    print(f\"Starting grid search on batch {i}...\")\n",
    "    start_time = time.time()\n",
    "    grid = GridSearchCV(model, param_grid)\n",
    "    grid.fit(GX_train, gy_train)\n",
    "    end_time = time.time()\n",
    "\n",
    "    # Get the best estimator\n",
    "    best_model = grid.best_estimator_\n",
    "\n",
    "    # Make predictions on the test set\n",
    "    gy_pred = best_model.predict(GX_test)\n",
    "\n",
    "    # Classification report\n",
    "    print(f\"Classification report for batch {i} on the test set:\")\n",
    "    print(classification_report(gy_test, gy_pred))\n",
    "\n",
    "    print(f\"Best parameters for db{i}: {grid.best_params_}\")\n",
    "    print(f\"Time taken for db{i}: {end_time - start_time} seconds\\n\")"
   ]
  },
  {
   "cell_type": "markdown",
   "id": "DCVovxpLiKoC",
   "metadata": {
    "id": "DCVovxpLiKoC"
   },
   "source": [
    "#### Observations\n",
    "**Best Parameters for all the 5 Black and white batches are as follows:**\n",
    "\n",
    "- 'svc__C': 5\n",
    "\n",
    "- 'svc__gamma': 0.005\n",
    "\n",
    "**F1 score Accuracy**\n",
    "\n",
    "\n",
    "- Batch1: 0.39\n",
    "\n",
    "- Batch2: 0.37\n",
    "\n",
    "- Batch3: 0.38\n",
    "\n",
    "- Batch4: 0.37\n",
    "\n",
    "- Batch5: 0.36\n",
    "\n",
    "\n",
    "**Out of five batches, Batch number 1 has best f1 score accuracy.**"
   ]
  },
  {
   "cell_type": "markdown",
   "id": "4Jjp9Ni9gLPG",
   "metadata": {
    "id": "4Jjp9Ni9gLPG"
   },
   "source": [
    "### Whole B&W CIFAR batch"
   ]
  },
  {
   "cell_type": "markdown",
   "id": "BIhbzqxjgmL9",
   "metadata": {
    "id": "BIhbzqxjgmL9"
   },
   "source": [
    "#### Convert the test and train data to grayscale and flattening the dataset"
   ]
  },
  {
   "cell_type": "code",
   "execution_count": 20,
   "id": "gedbSJuobZWF",
   "metadata": {
    "id": "gedbSJuobZWF"
   },
   "outputs": [],
   "source": [
    "AX_train_gray = AX_train.copy()\n",
    "AX_test_gray = AX_test.copy()"
   ]
  },
  {
   "cell_type": "code",
   "execution_count": 21,
   "id": "lt-Xg0mzdO4N",
   "metadata": {
    "id": "lt-Xg0mzdO4N"
   },
   "outputs": [],
   "source": [
    "#For training Dataset\n",
    "for i in range(AX_train_gray.shape[0]):\n",
    "        for j in range(AX_train_gray.shape[1]):\n",
    "            for k in range(AX_train_gray.shape[2]):\n",
    "                rgb = AX_train_gray[i, j, k]\n",
    "                gray = rgb2gray(rgb)\n",
    "                AX_train_gray[i, j, k] = gray\n",
    "# Flatten the grayscale images\n",
    "AX_train_gray_flattened = np.zeros((AX_train_gray.shape[0], 3072))\n",
    "for i in range(AX_train_gray.shape[0]):\n",
    "    AX_train_gray_flattened[i] = AX_train_gray[i].flatten()"
   ]
  },
  {
   "cell_type": "code",
   "execution_count": 22,
   "id": "iHwgwSK_dltn",
   "metadata": {
    "id": "iHwgwSK_dltn"
   },
   "outputs": [],
   "source": [
    "#For testing Dataset\n",
    "for i in range(AX_test_gray.shape[0]):\n",
    "        for j in range(AX_test_gray.shape[1]):\n",
    "            for k in range(AX_test_gray.shape[2]):\n",
    "                rgb = AX_test_gray[i, j, k]\n",
    "                gray = rgb2gray(rgb)\n",
    "                AX_test_gray[i, j, k] = gray\n",
    "# Flatten the grayscale images\n",
    "AX_test_gray_flattened = np.zeros((AX_test_gray.shape[0], 3072))\n",
    "for i in range(AX_test_gray.shape[0]):\n",
    "    AX_test_gray_flattened[i] = AX_test_gray[i].flatten()"
   ]
  },
  {
   "cell_type": "markdown",
   "id": "6zvZgstNlsGR",
   "metadata": {
    "id": "6zvZgstNlsGR"
   },
   "source": [
    "Display the GrayScale Image"
   ]
  },
  {
   "cell_type": "code",
   "execution_count": 23,
   "id": "fPVQEBXNlgDJ",
   "metadata": {
    "id": "fPVQEBXNlgDJ"
   },
   "outputs": [
    {
     "data": {
      "text/plain": [
       "<matplotlib.image.AxesImage at 0x22ea587f510>"
      ]
     },
     "execution_count": 23,
     "metadata": {},
     "output_type": "execute_result"
    },
    {
     "data": {
      "image/png": "[encoded data removed]",
      "text/plain": [
       "<Figure size 640x480 with 1 Axes>"
      ]
     },
     "metadata": {},
     "output_type": "display_data"
    }
   ],
   "source": [
    "plt.imshow(np.flip(AX_train_gray[123], (0,1)).astype('uint8'), origin='lower')"
   ]
  },
  {
   "cell_type": "markdown",
   "id": "7Rg4qd0Tgvz0",
   "metadata": {
    "id": "7Rg4qd0Tgvz0"
   },
   "source": [
    "#### GridSearchCV for whole CIFAR B&W Dataset"
   ]
  },
  {
   "cell_type": "code",
   "execution_count": 24,
   "id": "0ENCK6Rve3Af",
   "metadata": {
    "id": "0ENCK6Rve3Af"
   },
   "outputs": [
    {
     "name": "stdout",
     "output_type": "stream",
     "text": [
      "Starting grid search on db...\n",
      "Classification report for db9999 on the test set:\n",
      "              precision    recall  f1-score   support\n",
      "\n",
      "           0       0.47      0.41      0.44      1000\n",
      "           1       0.48      0.55      0.51      1000\n",
      "           2       0.30      0.34      0.32      1000\n",
      "           3       0.29      0.23      0.26      1000\n",
      "           4       0.34      0.40      0.37      1000\n",
      "           5       0.42      0.36      0.39      1000\n",
      "           6       0.47      0.44      0.45      1000\n",
      "           7       0.51      0.49      0.50      1000\n",
      "           8       0.52      0.55      0.53      1000\n",
      "           9       0.46      0.49      0.47      1000\n",
      "\n",
      "    accuracy                           0.43     10000\n",
      "   macro avg       0.43      0.43      0.43     10000\n",
      "weighted avg       0.43      0.43      0.43     10000\n",
      "\n",
      "Best parameters for db9999: {'svc__C': 5, 'svc__gamma': 0.005}\n",
      "Time taken for db9999: 668.8193366527557 seconds\n",
      "\n"
     ]
    }
   ],
   "source": [
    "# Parameters for grid search\n",
    "param_grid = {'svc__C': [1, 5], 'svc__gamma': [0.001, 0.005]}\n",
    "\n",
    "print(f\"Starting grid search on db...\")\n",
    "start_time = time.time()\n",
    "grid = GridSearchCV(model, param_grid)\n",
    "grid.fit(AX_train_gray_flattened[:15000], ay_train[:15000])\n",
    "end_time = time.time()\n",
    "\n",
    "# Get the best estimator\n",
    "best_model = grid.best_estimator_\n",
    "\n",
    "# Make predictions on the test set\n",
    "ay_pred = best_model.predict(AX_test_gray_flattened)\n",
    "\n",
    "# Classification report\n",
    "print(f\"Classification report for db{i} on the test set:\")\n",
    "print(classification_report(ay_test, ay_pred))\n",
    "\n",
    "print(f\"Best parameters for db{i}: {grid.best_params_}\")\n",
    "print(f\"Time taken for db{i}: {end_time - start_time} seconds\\n\")"
   ]
  },
  {
   "cell_type": "markdown",
   "id": "7e8297e6",
   "metadata": {},
   "source": [
    "#### Observations\n",
    "**Best SVC Parameters are as follows:**\n",
    "\n",
    "- 'svc__C': 5\n",
    "\n",
    "- 'svc__gamma': 0.005\n",
    "\n",
    "**F1 score Accuracy: 43%**"
   ]
  },
  {
   "cell_type": "markdown",
   "id": "Yzdxmnptj1u1",
   "metadata": {
    "id": "Yzdxmnptj1u1"
   },
   "source": [
    "## Comparative Analysis: Color CIFAR vs. Grayscale CIFAR\n",
    "1. **Overall F1 Score:**\n",
    "Colored CIFAR: 51%\n",
    "Grayscale CIFAR: 43%\n",
    "The SVM model performs better on the colored dataset.\n",
    "\n",
    "\n",
    "2. **Class-wise F1 Score:**\n",
    "The F1 scores for individual classes are higher in the colored dataset compared to the grayscale dataset, indicating that color information aids in better class differentiation.\n",
    "\n",
    "\n",
    "3. **Precision and Recall:**\n",
    "Higher precision and recall in the colored dataset demonstrate improved performance in identifying relevant instances with fewer false positives and negatives.\n",
    "\n",
    "\n",
    "**Theoretical Considerations:**\n",
    "\n",
    "\n",
    "1. **Information Loss in Grayscale Conversion:**\n",
    "    Converting images to grayscale results in the loss of color information, which is crucial for distinguishing between certain objects.\n",
    "\n",
    "\n",
    "2. **Texture and Shape Recognition:**\n",
    "    While grayscale images can suffice for tasks relying on texture and shape, the diverse objects in CIFAR-10 (e.g., vehicles and animals) benefit significantly from color information.\n",
    "\n",
    "\n",
    "3. **Hyperparameters:**\n",
    "    The optimal parameters (svc__C: 5, svc__gamma: 0.005) were consistent across both datasets, indicating stable model tuning. Expanding the parameter grid could potentially enhance the model further."
   ]
  },
  {
   "cell_type": "markdown",
   "id": "f5c49e97-6808-42c7-b8fa-9cd699a55274",
   "metadata": {},
   "source": [
    "## Conclusion\n",
    "The analysis demonstrates that the SVM classifier achieves higher F1 scores when trained on the colored CIFAR-10 dataset compared to the grayscale version. This underscores the importance of color information in image classification tasks, enhancing the model's ability to distinguish between different objects. The reduction in classification performance with grayscale images highlights the loss of crucial features that color provides. This comparative study emphasizes the value of preserving color information for effective image classification using SVMs."
   ]
  }
 ],
 "metadata": {
  "colab": {
   "provenance": []
  },
  "kernelspec": {
   "display_name": "Python 3 (ipykernel)",
   "language": "python",
   "name": "python3"
  },
  "language_info": {
   "codemirror_mode": {
    "name": "ipython",
    "version": 3
   },
   "file_extension": ".py",
   "mimetype": "text/x-python",
   "name": "python",
   "nbconvert_exporter": "python",
   "pygments_lexer": "ipython3",
   "version": "3.10.14"
  }
 },
 "nbformat": 4,
 "nbformat_minor": 5
}
